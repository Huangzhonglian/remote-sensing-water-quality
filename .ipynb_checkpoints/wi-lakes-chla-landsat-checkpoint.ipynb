{
 "cells": [
  {
   "cell_type": "code",
   "execution_count": 234,
   "metadata": {},
   "outputs": [],
   "source": [
    "from bs4 import BeautifulSoup as bs\n",
    "import requests"
   ]
  },
  {
   "cell_type": "markdown",
   "metadata": {},
   "source": [
    "### Get a list of all counties in WI"
   ]
  },
  {
   "cell_type": "code",
   "execution_count": 96,
   "metadata": {},
   "outputs": [],
   "source": [
    "# Get the list of all counties in WI\n",
    "county_url = \"https://dnr.wi.gov/lakes/clmn/\"\n",
    "county_html = requests.get(county_url)"
   ]
  },
  {
   "cell_type": "code",
   "execution_count": 98,
   "metadata": {},
   "outputs": [
    {
     "data": {
      "text/plain": [
       "'\\r\\n\\r\\n<!DOCTYPE html PUBLIC \"-//W3C//DTD XHTML 1.0 Strict//EN\" \"http://www.w3.org/TR/xhtml1/DTD/xhtml1-strict.dtd\">\\r\\n\\r\\n<html xmlns=\"http://www.w3.org/1999/xhtml\">\\r\\n\\r\\n<head><meta http-equiv=\"content-type\" content=\"text/html;charset=utf-8\" /><link href=\"http://dnr.wi.gov/favicon.ico\" type=\"image/x-icon\" rel=\"icon\" /><link href=\"http://dnr.wi.gov/favicon.ico\" type=\"image/x-icon\" rel=\"shortcut icon\" /><title>\\r\\n\\tCitizen Lake Monitoring Network\\r\\n</title><!-- BEGIN global_head.inc ( /includes/global_head'"
      ]
     },
     "execution_count": 98,
     "metadata": {},
     "output_type": "execute_result"
    }
   ],
   "source": [
    "# .text returns the request content in Unicode\n",
    "county_html.text[:500]"
   ]
  },
  {
   "cell_type": "code",
   "execution_count": 105,
   "metadata": {},
   "outputs": [],
   "source": [
    "county_soup = bs(county_html.text, 'html.parser')"
   ]
  },
  {
   "cell_type": "code",
   "execution_count": 77,
   "metadata": {},
   "outputs": [
    {
     "data": {
      "text/plain": [
       "[<li class=\"multiColList\"><a href=\"Stations.aspx?location=1\">\n",
       "                 Adams County\n",
       "             </a></li>,\n",
       " <li class=\"multiColList\"><a href=\"Stations.aspx?location=2\">\n",
       "                 Ashland County\n",
       "             </a></li>,\n",
       " <li class=\"multiColList\"><a href=\"Stations.aspx?location=3\">\n",
       "                 Barron County\n",
       "             </a></li>,\n",
       " <li class=\"multiColList\"><a href=\"Stations.aspx?location=4\">\n",
       "                 Bayfield County\n",
       "             </a></li>,\n",
       " <li class=\"multiColList\"><a href=\"Stations.aspx?location=5\">\n",
       "                 Brown County\n",
       "             </a></li>,\n",
       " <li class=\"multiColList\"><a href=\"Stations.aspx?location=6\">\n",
       "                 Buffalo County\n",
       "             </a></li>,\n",
       " <li class=\"multiColList\"><a href=\"Stations.aspx?location=7\">\n",
       "                 Burnett County\n",
       "             </a></li>,\n",
       " <li class=\"multiColList\"><a href=\"Stations.aspx?location=8\">\n",
       "                 Calumet County\n",
       "             </a></li>,\n",
       " <li class=\"multiColList\"><a href=\"Stations.aspx?location=9\">\n",
       "                 Chippewa County\n",
       "             </a></li>,\n",
       " <li class=\"multiColList\"><a href=\"Stations.aspx?location=10\">\n",
       "                 Clark County\n",
       "             </a></li>,\n",
       " <li class=\"multiColList\"><a href=\"Stations.aspx?location=11\">\n",
       "                 Columbia County\n",
       "             </a></li>,\n",
       " <li class=\"multiColList\"><a href=\"Stations.aspx?location=12\">\n",
       "                 Crawford County\n",
       "             </a></li>,\n",
       " <li class=\"multiColList\"><a href=\"Stations.aspx?location=13\">\n",
       "                 Dane County\n",
       "             </a></li>,\n",
       " <li class=\"multiColList\"><a href=\"Stations.aspx?location=14\">\n",
       "                 Dodge County\n",
       "             </a></li>,\n",
       " <li class=\"multiColList\"><a href=\"Stations.aspx?location=15\">\n",
       "                 Door County\n",
       "             </a></li>,\n",
       " <li class=\"multiColList\"><a href=\"Stations.aspx?location=16\">\n",
       "                 Douglas County\n",
       "             </a></li>,\n",
       " <li class=\"multiColList\"><a href=\"Stations.aspx?location=17\">\n",
       "                 Dunn County\n",
       "             </a></li>,\n",
       " <li class=\"multiColList\"><a href=\"Stations.aspx?location=18\">\n",
       "                 Eau Claire County\n",
       "             </a></li>,\n",
       " <li class=\"multiColList\"><a href=\"Stations.aspx?location=19\">\n",
       "                 Florence County\n",
       "             </a></li>,\n",
       " <li class=\"multiColList\"><a href=\"Stations.aspx?location=20\">\n",
       "                 Fond du Lac County\n",
       "             </a></li>,\n",
       " <li class=\"multiColList\"><a href=\"Stations.aspx?location=21\">\n",
       "                 Forest County\n",
       "             </a></li>,\n",
       " <li class=\"multiColList\"><a href=\"Stations.aspx?location=22\">\n",
       "                 Grant County\n",
       "             </a></li>,\n",
       " <li class=\"multiColList\"><a href=\"Stations.aspx?location=23\">\n",
       "                 Green County\n",
       "             </a></li>,\n",
       " <li class=\"multiColList\"><a href=\"Stations.aspx?location=24\">\n",
       "                 Green Lake County\n",
       "             </a></li>,\n",
       " <li class=\"multiColList\"><a href=\"Stations.aspx?location=25\">\n",
       "                 Iowa County\n",
       "             </a></li>,\n",
       " <li class=\"multiColList\"><a href=\"Stations.aspx?location=26\">\n",
       "                 Iron County\n",
       "             </a></li>,\n",
       " <li class=\"multiColList\"><a href=\"Stations.aspx?location=27\">\n",
       "                 Jackson County\n",
       "             </a></li>,\n",
       " <li class=\"multiColList\"><a href=\"Stations.aspx?location=28\">\n",
       "                 Jefferson County\n",
       "             </a></li>,\n",
       " <li class=\"multiColList\"><a href=\"Stations.aspx?location=29\">\n",
       "                 Juneau County\n",
       "             </a></li>,\n",
       " <li class=\"multiColList\"><a href=\"Stations.aspx?location=30\">\n",
       "                 Kenosha County\n",
       "             </a></li>,\n",
       " <li class=\"multiColList\"><a href=\"Stations.aspx?location=31\">\n",
       "                 Kewaunee County\n",
       "             </a></li>,\n",
       " <li class=\"multiColList\"><a href=\"Stations.aspx?location=32\">\n",
       "                 La Crosse County\n",
       "             </a></li>,\n",
       " <li class=\"multiColList\"><a href=\"Stations.aspx?location=33\">\n",
       "                 Lafayette County\n",
       "             </a></li>,\n",
       " <li class=\"multiColList\"><a href=\"Stations.aspx?location=34\">\n",
       "                 Langlade County\n",
       "             </a></li>,\n",
       " <li class=\"multiColList\"><a href=\"Stations.aspx?location=35\">\n",
       "                 Lincoln County\n",
       "             </a></li>,\n",
       " <li class=\"multiColList\"><a href=\"Stations.aspx?location=36\">\n",
       "                 Manitowoc County\n",
       "             </a></li>,\n",
       " <li class=\"multiColList\"><a href=\"Stations.aspx?location=37\">\n",
       "                 Marathon County\n",
       "             </a></li>,\n",
       " <li class=\"multiColList\"><a href=\"Stations.aspx?location=38\">\n",
       "                 Marinette County\n",
       "             </a></li>,\n",
       " <li class=\"multiColList\"><a href=\"Stations.aspx?location=39\">\n",
       "                 Marquette County\n",
       "             </a></li>,\n",
       " <li class=\"multiColList\"><a href=\"Stations.aspx?location=40\">\n",
       "                 Menominee County\n",
       "             </a></li>,\n",
       " <li class=\"multiColList\"><a href=\"Stations.aspx?location=41\">\n",
       "                 Milwaukee County\n",
       "             </a></li>,\n",
       " <li class=\"multiColList\"><a href=\"Stations.aspx?location=42\">\n",
       "                 Monroe County\n",
       "             </a></li>,\n",
       " <li class=\"multiColList\"><a href=\"Stations.aspx?location=43\">\n",
       "                 Oconto County\n",
       "             </a></li>,\n",
       " <li class=\"multiColList\"><a href=\"Stations.aspx?location=44\">\n",
       "                 Oneida County\n",
       "             </a></li>,\n",
       " <li class=\"multiColList\"><a href=\"Stations.aspx?location=45\">\n",
       "                 Outagamie County\n",
       "             </a></li>,\n",
       " <li class=\"multiColList\"><a href=\"Stations.aspx?location=46\">\n",
       "                 Ozaukee County\n",
       "             </a></li>,\n",
       " <li class=\"multiColList\"><a href=\"Stations.aspx?location=47\">\n",
       "                 Pepin County\n",
       "             </a></li>,\n",
       " <li class=\"multiColList\"><a href=\"Stations.aspx?location=48\">\n",
       "                 Pierce County\n",
       "             </a></li>,\n",
       " <li class=\"multiColList\"><a href=\"Stations.aspx?location=49\">\n",
       "                 Polk County\n",
       "             </a></li>,\n",
       " <li class=\"multiColList\"><a href=\"Stations.aspx?location=50\">\n",
       "                 Portage County\n",
       "             </a></li>,\n",
       " <li class=\"multiColList\"><a href=\"Stations.aspx?location=51\">\n",
       "                 Price County\n",
       "             </a></li>,\n",
       " <li class=\"multiColList\"><a href=\"Stations.aspx?location=52\">\n",
       "                 Racine County\n",
       "             </a></li>,\n",
       " <li class=\"multiColList\"><a href=\"Stations.aspx?location=53\">\n",
       "                 Richland County\n",
       "             </a></li>,\n",
       " <li class=\"multiColList\"><a href=\"Stations.aspx?location=54\">\n",
       "                 Rock County\n",
       "             </a></li>,\n",
       " <li class=\"multiColList\"><a href=\"Stations.aspx?location=55\">\n",
       "                 Rusk County\n",
       "             </a></li>,\n",
       " <li class=\"multiColList\"><a href=\"Stations.aspx?location=56\">\n",
       "                 Saint Croix County\n",
       "             </a></li>,\n",
       " <li class=\"multiColList\"><a href=\"Stations.aspx?location=57\">\n",
       "                 Sauk County\n",
       "             </a></li>,\n",
       " <li class=\"multiColList\"><a href=\"Stations.aspx?location=58\">\n",
       "                 Sawyer County\n",
       "             </a></li>,\n",
       " <li class=\"multiColList\"><a href=\"Stations.aspx?location=59\">\n",
       "                 Shawano County\n",
       "             </a></li>,\n",
       " <li class=\"multiColList\"><a href=\"Stations.aspx?location=60\">\n",
       "                 Sheboygan County\n",
       "             </a></li>,\n",
       " <li class=\"multiColList\"><a href=\"Stations.aspx?location=61\">\n",
       "                 Taylor County\n",
       "             </a></li>,\n",
       " <li class=\"multiColList\"><a href=\"Stations.aspx?location=62\">\n",
       "                 Trempealeau County\n",
       "             </a></li>,\n",
       " <li class=\"multiColList\"><a href=\"Stations.aspx?location=63\">\n",
       "                 Vernon County\n",
       "             </a></li>,\n",
       " <li class=\"multiColList\"><a href=\"Stations.aspx?location=64\">\n",
       "                 Vilas County\n",
       "             </a></li>,\n",
       " <li class=\"multiColList\"><a href=\"Stations.aspx?location=65\">\n",
       "                 Walworth County\n",
       "             </a></li>,\n",
       " <li class=\"multiColList\"><a href=\"Stations.aspx?location=66\">\n",
       "                 Washburn County\n",
       "             </a></li>,\n",
       " <li class=\"multiColList\"><a href=\"Stations.aspx?location=67\">\n",
       "                 Washington County\n",
       "             </a></li>,\n",
       " <li class=\"multiColList\"><a href=\"Stations.aspx?location=68\">\n",
       "                 Waukesha County\n",
       "             </a></li>,\n",
       " <li class=\"multiColList\"><a href=\"Stations.aspx?location=69\">\n",
       "                 Waupaca County\n",
       "             </a></li>,\n",
       " <li class=\"multiColList\"><a href=\"Stations.aspx?location=70\">\n",
       "                 Waushara County\n",
       "             </a></li>,\n",
       " <li class=\"multiColList\"><a href=\"Stations.aspx?location=71\">\n",
       "                 Winnebago County\n",
       "             </a></li>,\n",
       " <li class=\"multiColList\"><a href=\"Stations.aspx?location=72\">\n",
       "                 Wood County\n",
       "             </a></li>]"
      ]
     },
     "execution_count": 77,
     "metadata": {},
     "output_type": "execute_result"
    }
   ],
   "source": [
    "county_soup.find_all(name='li', attrs={'class':'multiColList'})"
   ]
  },
  {
   "cell_type": "code",
   "execution_count": 94,
   "metadata": {
    "scrolled": true
   },
   "outputs": [
    {
     "name": "stdout",
     "output_type": "stream",
     "text": [
      "72\n"
     ]
    }
   ],
   "source": [
    "# Extract list of all counties, correctly formatted \n",
    "counties = []\n",
    "for entry in county_soup.find_all(name='li', attrs={'class':'multiColList'}):\n",
    "    counties.append(entry.text.replace('\\r\\n', '').replace(' ', '').replace('County',' County'))\n",
    "print(len(counties))"
   ]
  },
  {
   "cell_type": "markdown",
   "metadata": {},
   "source": [
    "### Get all reports containing CHLA readings"
   ]
  },
  {
   "cell_type": "markdown",
   "metadata": {},
   "source": [
    "Get all station numbers"
   ]
  },
  {
   "cell_type": "code",
   "execution_count": null,
   "metadata": {},
   "outputs": [],
   "source": [
    "# find station number in from table column station ID \n",
    "# All counties: https://dnr.wi.gov/lakes/clmn/Stations.aspx?location=0 \n",
    "# By county: https://dnr.wi.gov/lakes/clmn/Stations.aspx?location=1 "
   ]
  },
  {
   "cell_type": "code",
   "execution_count": 244,
   "metadata": {},
   "outputs": [],
   "source": [
    "from selenium import webdriver\n",
    "from html_table_parser import parser_functions as parse\n",
    "from time import sleep\n",
    "\n",
    "driver = webdriver.Firefox()\n",
    "station_url = 'https://dnr.wi.gov/lakes/clmn/Stations.aspx?location=0'\n",
    "driver.get(station_url)\n",
    "stationIDs = []\n",
    "\n",
    "def stationIDs(pageNumber):\n",
    "    for i in range(pageNumber):\n",
    "        station = driver.page_source\n",
    "        station_soup = bs(station, \"html.parser\")\n",
    "        station_table = station_soup.find('table',  { \"class\" : \"greysuitsyou\" })\n",
    "        station_twod_array = parse.make2d(station_table)\n",
    "        for n in range(2,len(station_twod_array)-1):\n",
    "            stationIDs.append(station_twod_array[n][1])\n",
    "        #  sleep(1)\n",
    "        # go to next page\n",
    "        driver.find_element_by_id(\"ctl00_ctl00_LeftPageContent_gvStationTable_ctl01_LinkButton3\").click()\n",
    "\n",
    "driver.close()\n",
    "    "
   ]
  },
  {
   "cell_type": "code",
   "execution_count": 245,
   "metadata": {},
   "outputs": [],
   "source": [
    "stationIDs(40)"
   ]
  },
  {
   "cell_type": "code",
   "execution_count": 246,
   "metadata": {},
   "outputs": [
    {
     "name": "stdout",
     "output_type": "stream",
     "text": [
      "['504001', '443052', '643047', '703060', '183082', '184002', '443053', '553068', '10040059', '643220', '163120', '643042', '433364', '493229', '643444', '10031332', '643401', '493104', '213142', '433035', '433120', '013159', '10028945', '10028946', '013037', '10031430', '10031431', '683297', '023124', '093053', '10021451', '10039551', '10049055', '10022318', '663045', '493056', '493058', '493057', '583164', '043122', '673119', '10012421', '10020976', '443373', '043174', '433354', '033182', '443324', '073067', '073122', '663112', '453282', '383209', '643121', '353077', '494002', '563058', '663050', '693104', '10049162', '663128', '433372', '443187', '033139', '213186', '693041', '433247', '493122', '443121', '693106', '593067', '143311', '033137', '143122', '033134', '033131', '143034', '033130', '033133', '10048426', '10049214', '033132', '10048427', '083044', '233117', '10039772', '643193', '433300', '643050', '663167', '373416', '073063', '493144', '493106', '443056', '673206', '673226', '513151', '073123', '033171', '373135', '443007', '703015', '703097', '643225', '493107', '443055', '593076', '10047715', '10047714', '663129', '033186', '10045051', '10045049', '10045052', '10045050', '10045053', '10045044', '10045045', '10045046', '10045047', '10045048', '10045039', '10045040', '10045041', '10045042', '10045043', '383185', '643165', '643510', '013007', '493145', '643125', '073061', '643051', '443033', '073056', '343068', '243018', '643478', '073099', '073131', '073124', '073130', '583094', '643467', '443057', '10048295', '443058', '583162', '253124', '643126', '453121', '443399', '443060', '583030', '643446', '10051010', '523132', '443059', '163237', '10043383', '493126', '493163', '10043748', '493114', '493115', '043154', '443062', '643053', '643341', '083043', '433252', '653219', '433081', '643445', '10048852', '043158', '693046', '10048454', '643194', '523120', '443065', '10014660', '703116', '363064', '10020502', '10048393', '10048394', '043071', '513121', '213137', '10044750', '383053', '10048094', '013040', '013039', '303055', '10007705', '643469', '643195', '023055', '643055', '363036', '363120', '563057', '303059', '553072', '10007717', '10049493', '264004', '613121', '10048851', '643470', '10049261', '493108', '10047738', '10047743', '10047736', '10047740', '10047742', '10047741', '433366', '643459', '10049512', '10048445', '153112', '443071', '353095', '553071', '543247', '583092', '643415', '264005', '073051', '443075', '10049082', '513098', '643230', '10021091', '383121', '503139', '693100', '693044', '583204', '10044125', '253189', '643407', '643177', '073093', '043159', '213121', '643471', '443123', '10039138', '683371', '013148', '433072', '443081', '10044915', '10047505', '603120', '213044', '163392', '443083', '643057', '693093', '10047822', '203079', '473024', '643041', '643578', '643620', '10048587', '10041762', '10046874', '10043752', '10043787', '10043760', '10043753', '10043754', '10043756', '10043755', '10043761', '663105', '013145', '263151', '353094', '073086', '443087', '493055', '493063', '643058', '653215', '10031264', '10031263', '10041431', '073118', '573121', '10034776', '073111', '443089', '043126', '10007750', '444008', '443091', '163091', '673120', '343044', '643059', '033208', '073096', '10047621', '663132', '663133', '10048308', '573060', '10048310', '10048309', '10048307', '343067', '043077', '643178', '10029392', '10029394', '10042177', '683258', '313121', '10043673', '10043702', '443351', '10021086', '10033495', '443310', '033210', '263044', '263045', '10014825', '603458', '644015', '443358', '10029440', '443094', '363037', '343120', '10043680', '433367', '10044620', '073076', '643063', '10021087', '10048432', '193037', '643173', '013008', '443096', '643320', '10044617', '10044618', '10044616', '10039552', '263161', '073077', '073081', '10038255', '263043', '643233', '643129', '443097', '043078', '203076', '643449', '10044688', '10044689', '153160', '643065', '643482', '10033702', '443098', '013030', '443099', '683122', '143123', '10020985', '713246', '10046890', '213138', '443100', '493202', '013018', '673202', '193010', '443306', '363035', '653122', '443103', '443125', '693089', '443479', '043152', '383100', '703052', '263124', '433082', '663116', '383277', '683123', '013142', '10049242', '244002', '10044562', '243024', '263138', '10022808', '033177', '593044', '343123', '673208', '433282', '653123', '074012', '10021525', '243021', '243049', '10049077', '493081', '433337', '073078', '643066', '643434', '10048452', '10049514', '10037628', '043093', '493099', '353091', '093115', '193047', '043148', '10044862', '10044861', '443107', '363068', '643512', '043079', '10048189', '10048190', '363229', '443386', '443489', '313031', '10031527', '443480', '033142', '493078', '263179', '643488', '333231', '10043135', '383256', '643196', '10040705', '443340', '10030015', '10029030', '353075', '093102', '10039137', '093104', '653289', '303053', '433371', '493071', '643197', '443111', '10033960', '10042003', '493139', '10046892', '363125', '10044838', '10033959', '10044837', '10044839', '10042010', '10033958', '583167', '683170', '643466', '133419', '443043', '693107', '10049228', '643489', '553069', '443113', '643200', '594004', '10007674', '643472', '353090', '10041851', '10034335', '633124', '433078', '073054', '583134', '10021272', '013152', '013178', '10037090', '643070', '10038725', '153121', '363309', '443116', '643235', '443129', '433283', '10047749', '10047746', '10047748', '10043429', '643334', '643451', '203059', '193006', '10044580', '10044581', '10044579', '443117', '10048605', '10048606', '693095', '593068', '313030', '703103', '10044894', '10044895', '10047091', '10047087', '403008', '583077', '583071', '10033392', '583067', '583072', '583046', '10033577', '10038981', '10038983', '10038982', '10037854', '10037855', '583097', '10038985', '10044724', '583066', '683125', '683171', '513087', '643206', '10042274', '10042273', '10042173', '10042174', '353052', '273120', '653121', '104494', '713257', '713258', '713255', '713291', '10043992', '10043994', '583096', '583109', '583095', '043075', '573055', '033159', '503205', '10043734', '10043733', '603311', '143274', '503140', '613187', '673225', '023057', '703026', '443413', '683124', '10021610', '10042264', '133122', '10042263', '283119', '10022780', '503154', '653255', '213123', '353208', '563121', '303121', '10048818', '133318', '10046986', '10031991', '10031720', '173121', '10031500', '173228', '213124', '163125', '353089', '208', '10042267', '10032371', '133538', '133123', '10047487', '10047241', '10047242', '10047230', '10047299', '033191', '10044936', '10044938', '10044937', '703036', '703037', '703038', '703041', '663155', '663151', '163394', '383125', '10048443', '263143', '643071', '10021261', '043135', '043137', '043138', '353179', '583108', '243056', '10014912', '573124', '10044164', '573131', '573205', '573129', '283122', '10020914', '303128', '393140', '013038', '10048430', '033205', '443408', '423126', '653216', '133125', '10042265', '10042266', '10048872', '10046857', '043157', '133320', '10046787', '10046788', '713243', '713245', '104474', '713302', '714005', '713244', '713328', '713329', '713335', '713347', '713352', '713247', '203165', '10042888', '10042889', '10034449', '10046887', '10046888', '10046889', '713304', '10042919', '10042879', '10042920', '10042921', '583165', '113077', '10028900', '10042586', '10029002', '10031185', '10031184', '10007596', '10007595', '10042253', '093096', '093131', '10039943', '10039945', '093159', '093160', '10028991', '10033585', '10031261', '493142', '443201', '10022550', '113075', '163238', '443332', '433207', '10048436', '10044615', '10029807', '403110', '404007', '10043845', '403109', '10043841', '10043842', '10043840', '403113', '403108', '10043838', '10043837', '10043839', '403112', '403114', '403111', '10043836', '10043835', '10043834', '10029680', '10042200', '10042202', '403107', '403106', '10043832', '10043830', '433365', '10014910', '543245', '303126', '10021425', '213043', '053668', '693092', '10037171', '10048424', '073094', '643074', '643385', '643597', '10041913', '443132', '10040970', '443204', '673122', '10044810', '10046779', '10046780', '673129', '10044811', '10044812', '10046782', '10046786', '10044809', '10044808', '10046784', '10044813', '10044814', '10046785', '643239', '033184', '603441', '443205', '673250', '243022', '703031', '433368', '643461', '713249', '10047088', '10047086', '10047316', '10047318', '10047085', '213042', '383095', '10043373', '263127', '643075', '213158', '663114', '643381', '033241', '583061', '643077', '613076', '643170', '643172', '643557', '643171', '643078', '644062', '10021450', '073121', '243023', '073049', '073048', '10033438', '443208', '643238', '693197', '10044979', '10044983', '10044984', '10044985', '10044986', '10044987', '663090', '073050', '043083', '203077', '353122', '643080', '363310', '593003', '703016', '493102', '443210', '443359', '10029045', '093123', '663088', '663062', '663091', '663092', '663118', '703056', '10029027', '263178', '493080', '023060', '033178', '593002', '073125', '193016', '583159', '643081', '193027', '10048321', '10048322', '10048323', '643326', '493073', '073043', '493103', '643082', '10021838', '10021839', '10021840', '10031424', '10031425', '583149', '043037', '443215', '663059', '663101', '683255', '443409', '683260', '343148', '593071', '10021469', '283201', '10042077', '10042079', '10042078', '10042080', '10042081', '643240', '033161', '033185', '253168', '214013', '10048433', '10048049', '10043650', '10047708', '213162', '383093', '10044889', '10044890', '163123', '643293', '643417', '10047200', '433123', '443217', '493166', '433074', '10012273', '10047974', '643247', '643135', '10031658', '10047983', '643460', '10047978', '10047981', '10047985', '10047980', '10047982', '10047984', '10047979', '693099', '443194', '443220', '443314', '623121', '703027', '693098', '263149', '343135', '013029', '663054', '10047975', '503126', '643084', '013133', '10047725', '553070', '443221', '693091', '343154', '443482', '663166', '443222', '103119', '443289', '10049581', '263126', '263177', '643295', '10042259', '10042260', '443469', '043035', '683253', '663052', '653124', '663115', '643243', '663102', '10048908', '443195', '653125', '043086', '10048191', '10048192', '693094', '10047821', '023062', '073095', '163381', '443134', '443173', '663099', '163300', '10044902', '10044898', '10044900', '10044896', '10044901', '10044899', '693121', '573079', '10032129', '193951', '10034812', '643088', '343153', '683168', '583086', '194009', '703066', '643245', '10039999', '10042091', '10042092', '10042090', '10042093', '643487', '073046', '10043980', '283202', '10048465', '433079', '043087', '643137', '513088', '643089', '683129', '043113', '043114', '043115', '043111', '10043421', '643090', '583168', '583169', '583170', '10044708', '693090', '073134', '643635', '683137', '193950', '10048640', '10048641', '10048642', '493105', '643297', '513079', '643249', '663103', '10048315', '10048316', '10048317', '10048318', '10048319', '10048320', '643140', '643430', '643435', '443232', '493148', '10042608', '443233', '073139', '683139', '683448', '683302', '10044716', '10021231', '683142', '683303', '683305', '683306', '683304', '443139', '10040051', '693096', '683202', '643179', '693087', '10047823', '693105', '643251', '303122', '443235', '643252', '443236', '263056', '113078', '013147', '013051', '193012', '493074', '433071', '703014', '443478', '443140', '443488', '443476', '443514', '593040', '10039141', '013144', '10030218', '10031335', '10031334', '443544', '443470', '563081', '163393', '013169', '10029567', '10033457', '683143', '10033632', '043150', '503120', '643145', '353123', '443237', '433248', '213128', '10047119', '10047120', '10047121', '043116', '363078', '10047819', '363359', '10047820', '10048165', '673123', '513095', '373390', '703019', '213131', '683201', '703061', '593043', '263036', '10042261', '10042262', '643094', '493097', '443242', '443406', '703057', '653217', '10020988', '10017218', '643164', '643095', '074026', '643146', '10021821', '10048314', '693097', '493147', '073126', '194004', '10048460', '703013', '033187', '663055', '553133', '553136', '653296', '653220', '303050', '643421', '643420', '683325', '10020972', '243039', '553134', '10043478', '10044815', '643255', '693124', '433075', '603312', '603459', '443244', '283223', '033140', '163383', '10044854', '10044856', '10044855', '10048365', '10048364', '10044857', '10044860', '10044859', '433369', '10047710', '10047711', '10047706', '10047703', '10047704', '443453', '10043987', '10042611', '10048434', '263057', '10047717', '10029957', '10044883', '10033450', '653218', '653231', '10044885', '10044884', '033192', '033180', '033181', '10044879', '10044880', '10044881', '10044882', '10031154', '503134', '213132', '043161', '103132', '643254', '283123', '643617', '343126', '073041', '643455', '343131', '433061', '593045', '073039', '493082', '10047726', '443247', '083033', '513126', '693043', '10034748', '213062', '093070', '553111', '10046861', '10048456', '163299', '10031157', '043156', '10048238', '10048239', '073080', '553067', '583047', '493208', '443248', '033143', '10034771', '10021038', '10034773', '10034770', '10034774', '10034768', '393153', '343132', '643102', '693025', '683251', '034012', '193039', '443251', '353168', '443253', '643160', '693034', '443255', '643384', '593072', '10044690', '593145', '593154', '593153', '10048413', '313029', '663010', '443256', '10021841', '10028947', '10028960', '643515', '643563', '363311', '043162', '10037641', '633129', '473013', '643103', '673203', '033100', '703100', '303123', '683145', '213017', '693084', '703018', '10012329', '363312', '113079', '443258', '143348', '143344', '043089', '583124', '663053', '583156', '10043374', '643104', '643105', '513128', '443260', '443330', '643419', '643257', '643106', '663104', '10044687', '10044685', '10044686', '10046960', '543120', '643428', '693029', '10044629', '10044628', '10044627', '663143', '663144', '663145', '663146', '663148', '663147', '663149', '583064', '583113', '263160', '643261', '583101', '583048', '583171', '043170', '583102', '643110', '443263', '513097', '073040', '353195', '683250', '10021413', '363038', '243019', '503141', '10033703', '643360', '443264', '10021157', '563056', '643457', '163236', '163235', '033193', '643107', '643631', '643458', '10037680', '663051', '643260', '263142', '074031', '543246', '693180', '693028', '133461', '10047636', '443142', '443471', '643267', '433363', '693086', '643109', '10044279', '443270', '113076', '443456', '073059', '043092', '10033688', '173215', '173214', '173216', '10048859', '643339', '114002', '693088', '10048442', '10021253', '583055', '033152', '443272', '473021', '10049513', '383096', '443274', '523122', '583103', '583105', '583104', '443144', '10048237', '443146', '443468', '643113', '383054', '443277', '443278', '433085', '10028988', '503135', '653277', '10044914', '10041763', '213064', '353102', '363030', '513133', '263059', '263048', '263049', '10019764', '263050', '263052', '263182', '653214', '043153', '393009', '073060', '044029', '253127', '093140', '443147', '443391', '663127', '433040', '10037638', '10048464', '10047203', '10048466', '10048431', '10020860', '10048455', '10048210', '10048435', '10048444', '10048447', '10048450', '643114', '10021835', '10021836', '10021837', '10031426', '10031427', '033194', '043129', '643268', '443280', '683376', '663058', '10048887', '683256', '683259', '343136', '10012242', '163376', '263046', '033175', '10030730', '033195', '643411', '213040', '643573', '443281', '303130', '073100', '443283', '10037637', '644049', '212030', '493149', '493131', '493098', '443302', '643117', '10028838', '453283', '523117', '723125', '073083', '073082', '263037', '10044715', '313170', '193015', '10046810', '443447', '193017', '443284', '10047627', '10046835', '443319', '10043704', '443166', '693085', '363067', '10051011', '433070', '493079', '643272', '593121', '693081', '343151', '393018', '573058', '703034', '643593', '643638', '583088', '443285', '643426', '163388', '163389', '653126', '653234', '653139', '653140', '643273', '363286', '393136', '393139', '263034', '10021042', '10044893', '10030313', '493116', '523124', '443196', '583089', '514017', '503042', '503003', '373024', '703067', '013143', '203058', '10014867', '10030260', '073044', '393017', '383255', '10028832', '643180', '073079', '333254', '693101']\n"
     ]
    }
   ],
   "source": [
    "print(stationIDs)"
   ]
  },
  {
   "cell_type": "code",
   "execution_count": 216,
   "metadata": {},
   "outputs": [],
   "source": [
    "# Report url example: stationNo, year1=1950&year2=2017 (regardless of most recent data)\n",
    "# http://dnrx.wisconsin.gov/swims/public/reporting.do?type=58&action=post&stationNo=013159&year1=1950&year2=2017&format=csv\n",
    "# http://dnrx.wisconsin.gov/swims/public/reporting.do?type=58&action=post&stationNo=10021087&year1=1950&year2=2017&format=csv\n",
    "# http://dnrx.wisconsin.gov/swims/public/reporting.do?type=58&action=post&stationNo=013178&year1=1950&year2=2017&format=csv\n",
    "# http://dnrx.wisconsin.gov/swims/public/reporting.do?type=58&action=post&stationNo=273120&year1=1950&year2=2017&format=csv\n",
    "\n"
   ]
  },
  {
   "cell_type": "code",
   "execution_count": 257,
   "metadata": {},
   "outputs": [
    {
     "name": "stdout",
     "output_type": "stream",
     "text": [
      "http://dnrx.wisconsin.gov/swims/public/reporting.do?type=58&action=post&stationNo=443052&year1=1950&year2=2017&format=csv\n"
     ]
    },
    {
     "data": {
      "text/plain": [
       "('./data/wi-lakes/report_443052.csv',\n",
       " <http.client.HTTPMessage at 0x23b1deff5f8>)"
      ]
     },
     "execution_count": 257,
     "metadata": {},
     "output_type": "execute_result"
    }
   ],
   "source": [
    "# Get the reports\n",
    "\n",
    "report_url = 'http://dnrx.wisconsin.gov/swims/public/reporting.do?type=58&action=post&stationNo=' + \\\n",
    "             str(stationIDs[1]) + '&year1=1950&year2=2017&format=csv'\n",
    "print(report_url)\n",
    "\n",
    "import urllib.request\n",
    "\n",
    "original_report_name = './data/wi-lakes/report_'+str(stationIDs[1])+'.csv'\n",
    "urllib.request.urlretrieve(report_url, original_report_name)  \n"
   ]
  },
  {
   "cell_type": "markdown",
   "metadata": {},
   "source": [
    "Clean downloaded reports"
   ]
  },
  {
   "cell_type": "code",
   "execution_count": 258,
   "metadata": {},
   "outputs": [],
   "source": [
    "# Clean report file\n",
    "\n",
    "f = open(original_report_name,'r')\n",
    "lines = f.readlines()\n",
    "f.close()\n",
    "goodlines = []\n",
    "start = 0\n",
    "for i in range(len(lines)):\n",
    "    if \"Chlorophyll\" in lines[i]:\n",
    "        start = i\n",
    "    if start > 0:\n",
    "        if lines[i].strip().replace(\",\",\"\") == \"\":\n",
    "            goodlines = lines[start:i]\n",
    "            break\n"
   ]
  },
  {
   "cell_type": "code",
   "execution_count": 264,
   "metadata": {},
   "outputs": [
    {
     "name": "stdout",
     "output_type": "stream",
     "text": [
      "['Lake Water Quality Report - 1950 to 2017\\n', '\\n', '\\n', 'Lake Name,County Name,Waterbody ID(WBIC),Region Code,County Code,Station Name,Station ID,Geo Region,Lake Type\\n', 'Aldridge Lake,Oneida,967400,NO,44,,443052,NE,DRAINED\\n', '\\n', '\\n', '\\n', 'Group Seq No, Start Date, Secchi (Feet),Secchi Hit Bottom?,Secchi (Meters),Chlorophyll(ug/l),Total Phosphorus(ug/l),Secchi TSI,Total Phosphorus TSI,Chlorophyll TSI,Lake Level,Staff Gauge,Appearance,Color,Perception\\n', '1,08/16/1979,,,,,,,,,,,,,\\n', '7000068,08/29/2001,,,,5.8,,,,48,,,,,\\n', '8188599,08/29/2001,3,NO,0.9,,,61,,,,,,,\\n', '1,08/14/2007,5.1,NO,1.55,3.54,29,54,54,44,,,,,\\n', '83293435,08/17/2013,4.75,NO,1.4,,,55,,,NORMAL,3,CLEAR,BROWN,2-Very minor aesthetic problems\\n', '83293435,09/03/2013,4,NO,1.2,,,57,,,NORMAL,,CLEAR,BROWN,2-Very minor aesthetic problems\\n', '83293435,07/01/2014,4.25,NO,1.3,,,56,,,HIGH,,CLEAR,BROWN,1-Beautiful, could not be nicer\\n', '83293435,07/10/2014,4.25,NO,1.3,,,56,,,HIGH,,CLEAR,BROWN,2-Very minor aesthetic problems\\n', '83293435,08/02/2014,4.25,NO,1.3,,,56,,,NORMAL,,CLEAR,BROWN,2-Very minor aesthetic problems\\n', '83293435,08/08/2014,5,NO,1.5,,,54,,,NORMAL,,CLEAR,BROWN,2-Very minor aesthetic problems\\n', '83293435,08/31/2014,4, ,1.2,,,57,,,NORMAL,,CLEAR,GREEN,2-Very minor aesthetic problems\\n', '83293435,09/09/2014,3.75,NO,1.1,,,58,,,HIGH,,CLEAR,BROWN,2-Very minor aesthetic problems\\n', '83293435,06/25/2015,4.3,NO,1.3,,,56,,,HIGH,,CLEAR,BROWN,2-Very minor aesthetic problems\\n', '83293435,07/04/2015,4.5,NO,1.4,,,55,,,HIGH,,CLEAR,BROWN,1-Beautiful, could not be nicer\\n', '83293435,07/11/2015,4.25,NO,1.3,,,56,,,NORMAL,,CLEAR,BROWN,2-Very minor aesthetic problems\\n', '83293435,07/17/2015,5,NO,1.5,,,54,,,NORMAL,,CLEAR,BROWN,2-Very minor aesthetic problems\\n', '83293435,08/14/2015,4.5,NO,1.4,,,55,,,LOW,,CLEAR,BROWN,2-Very minor aesthetic problems\\n', '83293435,09/03/2015,5,NO,1.5,,,54,,,NORMAL,,CLEAR,BROWN,2-Very minor aesthetic problems\\n', '103119417,09/09/2015,22,NO,6.7,,,33,,,NORMAL,,CLEAR,GREEN,1-Beautiful, could not be nicer\\n', '83293435,09/25/2015,4.75,NO,1.4,,,55,,,NORMAL,,CLEAR,BROWN,2-Very minor aesthetic problems\\n', '83293435,11/08/2015,5,NO,1.5,,,54,,,HIGH,,CLEAR,BROWN,2-Very minor aesthetic problems\\n', '83293435,11/29/2015,, ,,,,,,,,,,,\\n', '83293435,12/17/2015,, ,,,,,,,,,,,\\n', '83293435,05/06/2016,4,NO,1.2,,,57,,,HIGH,,CLEAR,BROWN,2-Very minor aesthetic problems\\n', '83293435,07/03/2016,5,NO,1.5,,,54,,,HIGH,,CLEAR,BROWN,2-Very minor aesthetic problems\\n', '83293435,09/22/2016,2.5,NO,0.8,,,64,,,HIGH,,CLEAR,BROWN,2-Very minor aesthetic problems\\n', '83293435,10/01/2016,3,NO,0.9,,,61,,,HIGH,,CLEAR,BROWN,2-Very minor aesthetic problems\\n', '83293435,07/31/2017,5,NO,1.5,,,54,,,NORMAL,,CLEAR,BROWN,2-Very minor aesthetic problems\\n', '83293435,09/29/2017,4.5,NO,1.4,,,55,,,NORMAL,,CLEAR,BROWN,2-Very minor aesthetic problems\\n', '\\n', '\\n', '\\n', 'Start Date,Depth,Depth Units,Temperature,Temperature Units,Dissolved Oxygen,Dissolved Oxygen Units\\n', '08/16/1979,,,19,C,,\\n', '08/29/2001,0,FEET,22,DEGREES C,7.94,MG/L\\n', '08/29/2001,2,FEET,21.7,DEGREES C,7.83,MG/L\\n', '08/29/2001,4,FEET,21.8,DEGREES C,7.85,MG/L\\n', '08/29/2001,6,FEET,21.7,DEGREES C,7.8,MG/L\\n', '08/29/2001,8,FEET,21.6,DEGREES C,7.79,MG/L\\n', '08/29/2001,10,FEET,20.6,DEGREES C,4.04,MG/L\\n', '08/29/2001,12,FEET,19,DEGREES C,1.25,MG/L\\n', '08/14/2007,0.5,METERS,24.2,DEGREES C,7.2,MG/L\\n', '08/14/2007,1,METERS,23.6,DEGREES C,6.8,MG/L\\n', '08/14/2007,2,METERS,23.4,DEGREES C,6.4,MG/L\\n', '08/14/2007,3,METERS,23.1,DEGREES C,5.4,MG/L\\n', '08/14/2007,4,METERS,20.6,DEGREES C,0.4,MG/L\\n', '07/17/2015,3,FEET,68,DEGREES F,,\\n', '07/17/2015,6,FEET,67,DEGREES F,,\\n', '08/14/2015,3,FEET,68,DEGREES F,,\\n', '08/14/2015,6,FEET,67,DEGREES F,,\\n', '09/03/2015,3,FEET,73,DEGREES F,,\\n', '09/03/2015,6,FEET,72,DEGREES F,,\\n', '09/03/2015,10,FEET,70,DEGREES F,,\\n', '09/09/2015,1,FEET,70.9,DEGREES F,8.7,MG/L\\n', '09/09/2015,4,FEET,71.5,DEGREES F,8.6,MG/L\\n', '09/09/2015,7,FEET,71.7,DEGREES F,8.56,MG/L\\n', '09/09/2015,10,FEET,71.7,DEGREES F,8.53,MG/L\\n', '09/09/2015,13,FEET,71.8,DEGREES F,8.49,MG/L\\n', '09/09/2015,16,FEET,71.8,DEGREES F,8.44,MG/L\\n', '09/09/2015,19,FEET,69.8,DEGREES F,8.68,MG/L\\n', '09/09/2015,22,FEET,68.9,DEGREES F,8.11,MG/L\\n', '09/09/2015,25,FEET,67.4,DEGREES F,6.73,MG/L\\n', '09/25/2015,3,FEET,65,DEGREES F,,\\n', '09/25/2015,6,FEET,66,DEGREES F,,\\n', '09/25/2015,10,FEET,66,DEGREES F,,\\n', '11/08/2015,3,FEET,46,DEGREES F,,\\n', '11/08/2015,6,FEET,46,DEGREES F,,\\n', '11/08/2015,10,FEET,46,DEGREES F,,\\n', '05/06/2016,3,FEET,60,DEGREES F,,\\n', '05/06/2016,6,FEET,58,DEGREES F,,\\n', '05/06/2016,10,FEET,57,DEGREES F,,\\n', '07/03/2016,3,FEET,74,DEGREES F,,\\n', '07/03/2016,6,FEET,73,DEGREES F,,\\n', '07/03/2016,10,FEET,71,DEGREES F,,\\n', '09/22/2016,3,FEET,68,DEGREES F,,\\n', '09/22/2016,6,FEET,66,DEGREES F,,\\n', '09/22/2016,10,FEET,66,DEGREES F,,\\n', '10/01/2016,3,FEET,60,DEGREES F,,\\n', '10/01/2016,6,FEET,60,DEGREES F,,\\n', '10/01/2016,10,FEET,60,DEGREES F,,\\n', '07/31/2017,3,FEET,75,DEGREES F,,\\n', '07/31/2017,6,FEET,74,DEGREES F,,\\n', '07/31/2017,10,FEET,71,DEGREES F,,\\n', '09/29/2017,3,FEET,70,DEGREES F,,\\n', '09/29/2017,6,FEET,70,DEGREES F,,\\n', '09/29/2017,10,FEET,67,DEGREES F,,\\n', '\\n', '\\n', '\\n', 'Start Date,Fieldwork Comment\\n', '08/16/1979,Migrated from EPA STORET Legacy Database- originally reported by Wisconsin DNR    \\n', '08/29/2001,INTEGRATED SAMPLER- 2 METER SAMPLE    \\n', '07/10/2014,Pair of Loons on lake with 2 young ones riding on the back of one of them\\n', '07/17/2015,Air temp 80 degrees. Wind was from the west and was medium.  Beautiful day- saw 1 loon.\\n', '08/14/2015,Clear day.  67 degrees.\\n', '09/03/2015,Nice day.  Temperature is 74 degrees.  Light winds from the east.  Saw 2 loons.\\n', '09/25/2015,Very nice day.  Calm day.  Temperature 70 degrees.  Saw 1 loon.  Noticed that weeds were less and were receding from several shorelines.\\n', '11/08/2015,44 degrees.  Clear blue skies.  Windy.  Saw 1 Eagle.  Lake had virtually no visible weeds on surface.\\n', '11/29/2015,Observed that the entire lake had froze over.\\n', '12/17/2015,Observed that most of Aldridge Lake had reopened due to unseasonably warm weather and heavy rains.\\n', '\\n', 'Lake was observed again on December 24th as frozen over again.\\n', '05/06/2016,Temperature is 80 degrees- sunny- windy.  Winds out of the west.  No weeds present.  Saw 2 loons.\\n', '07/03/2016,Nice clear day.  Sunny and 76 degrees- no wind.\\n', '09/22/2016,68 degrees.  Partly cloudy- light winds.  Saw 1 loon and 1 heron.\\n', '10/01/2016,56 degrees.  Partly cloudy.  Calm winds.\\n', '07/31/2017,Calm sunny day.  75 degrees.\\n', '09/29/2017,Nice day.  Partly cloudy 55 degrees.  Calm winds.\\n', '\\n', '\\n', '\\n', '\\n', 'Start Date,Group Name,Project Name\\n', '08/16/1979,Data Collectors,Migrated from STORET Legacy\\n', '08/29/2001,JENNIFER WUDI,Lake Baseline Monitoring- DNR (1970s-2006)\\n', '08/29/2001,Rick Jirsa,Lakes Baseline and Trends Monitoring\\n', '08/14/2007,Data Collectors,National Lake Survey - Index Sampling\\n', '08/17/2013,Hank Derleth,Citizen Lake Monitoring - Water Quality - Aldridge Lake - Deep Hole\\n', '09/03/2013,Hank Derleth,Citizen Lake Monitoring - Water Quality - Aldridge Lake - Deep Hole\\n', '07/01/2014,Hank Derleth,Citizen Lake Monitoring - Water Quality - Aldridge Lake - Deep Hole\\n', '07/10/2014,Hank Derleth,Citizen Lake Monitoring - Water Quality - Aldridge Lake - Deep Hole\\n', '08/02/2014,Hank Derleth,Citizen Lake Monitoring - Water Quality - Aldridge Lake - Deep Hole\\n', '08/08/2014,Hank Derleth,Citizen Lake Monitoring - Water Quality - Aldridge Lake - Deep Hole\\n', '08/31/2014,Hank Derleth,Citizen Lake Monitoring - Water Quality - Aldridge Lake - Deep Hole\\n', '09/09/2014,Hank Derleth,Citizen Lake Monitoring - Water Quality - Aldridge Lake - Deep Hole\\n', '06/25/2015,Hank Derleth,Citizen Lake Monitoring - Water Quality - Aldridge Lake - Deep Hole\\n', '07/04/2015,Hank Derleth,Citizen Lake Monitoring - Water Quality - Aldridge Lake - Deep Hole\\n', '07/11/2015,Hank Derleth,Citizen Lake Monitoring - Water Quality - Aldridge Lake - Deep Hole\\n', '07/17/2015,Hank Derleth,Citizen Lake Monitoring - Water Quality - Aldridge Lake - Deep Hole\\n', '08/14/2015,Hank Derleth,Citizen Lake Monitoring - Water Quality - Aldridge Lake - Deep Hole\\n', '09/03/2015,Hank Derleth,Citizen Lake Monitoring - Water Quality - Aldridge Lake - Deep Hole\\n', '09/09/2015,Stephanie Boismenue and Sara Mills,Lake Water Quality Monitoring - Oneida County Land and Water\\n', '09/25/2015,Hank Derleth,Citizen Lake Monitoring - Water Quality - Aldridge Lake - Deep Hole\\n', '11/08/2015,Hank Derleth,Citizen Lake Monitoring - Water Quality - Aldridge Lake - Deep Hole\\n', '11/29/2015,Hank Derleth,Citizen Lake Monitoring - Water Quality - Aldridge Lake - Deep Hole\\n', '12/17/2015,Hank Derleth,Citizen Lake Monitoring - Water Quality - Aldridge Lake - Deep Hole\\n', '05/06/2016,Hank Derleth,Citizen Lake Monitoring - Water Quality - Aldridge Lake - Deep Hole\\n', '07/03/2016,Hank Derleth,Citizen Lake Monitoring - Water Quality - Aldridge Lake - Deep Hole\\n', '09/22/2016,Hank Derleth,Citizen Lake Monitoring - Water Quality - Aldridge Lake - Deep Hole\\n', '10/01/2016,Hank Derleth,Citizen Lake Monitoring - Water Quality - Aldridge Lake - Deep Hole\\n', '07/31/2017,Hank Derleth,Citizen Lake Monitoring - Water Quality - Aldridge Lake - Deep Hole\\n', '09/29/2017,Hank Derleth,Citizen Lake Monitoring - Water Quality - Aldridge Lake - Deep Hole\\n']\n"
     ]
    }
   ],
   "source": [
    "print(lines)"
   ]
  },
  {
   "cell_type": "code",
   "execution_count": 259,
   "metadata": {
    "scrolled": true
   },
   "outputs": [
    {
     "name": "stdout",
     "output_type": "stream",
     "text": [
      "Group Seq No, Start Date, Secchi (Feet),Secchi Hit Bottom?,Secchi (Meters),Chlorophyll(ug/l),Total Phosphorus(ug/l),Secchi TSI,Total Phosphorus TSI,Chlorophyll TSI,Lake Level,Staff Gauge,Appearance,Color,Perception\n",
      "\n",
      "1,08/16/1979,,,,,,,,,,,,,\n",
      "\n",
      "7000068,08/29/2001,,,,5.8,,,,48,,,,,\n",
      "\n",
      "8188599,08/29/2001,3,NO,0.9,,,61,,,,,,,\n",
      "\n",
      "1,08/14/2007,5.1,NO,1.55,3.54,29,54,54,44,,,,,\n",
      "\n",
      "83293435,08/17/2013,4.75,NO,1.4,,,55,,,NORMAL,3,CLEAR,BROWN,2-Very minor aesthetic problems\n",
      "\n",
      "83293435,09/03/2013,4,NO,1.2,,,57,,,NORMAL,,CLEAR,BROWN,2-Very minor aesthetic problems\n",
      "\n",
      "83293435,07/01/2014,4.25,NO,1.3,,,56,,,HIGH,,CLEAR,BROWN,1-beautiful\n",
      "\n",
      "83293435,07/10/2014,4.25,NO,1.3,,,56,,,HIGH,,CLEAR,BROWN,2-Very minor aesthetic problems\n",
      "\n",
      "83293435,08/02/2014,4.25,NO,1.3,,,56,,,NORMAL,,CLEAR,BROWN,2-Very minor aesthetic problems\n",
      "\n",
      "83293435,08/08/2014,5,NO,1.5,,,54,,,NORMAL,,CLEAR,BROWN,2-Very minor aesthetic problems\n",
      "\n",
      "83293435,08/31/2014,4, ,1.2,,,57,,,NORMAL,,CLEAR,GREEN,2-Very minor aesthetic problems\n",
      "\n",
      "83293435,09/09/2014,3.75,NO,1.1,,,58,,,HIGH,,CLEAR,BROWN,2-Very minor aesthetic problems\n",
      "\n",
      "83293435,06/25/2015,4.3,NO,1.3,,,56,,,HIGH,,CLEAR,BROWN,2-Very minor aesthetic problems\n",
      "\n",
      "83293435,07/04/2015,4.5,NO,1.4,,,55,,,HIGH,,CLEAR,BROWN,1-beautiful\n",
      "\n",
      "83293435,07/11/2015,4.25,NO,1.3,,,56,,,NORMAL,,CLEAR,BROWN,2-Very minor aesthetic problems\n",
      "\n",
      "83293435,07/17/2015,5,NO,1.5,,,54,,,NORMAL,,CLEAR,BROWN,2-Very minor aesthetic problems\n",
      "\n",
      "83293435,08/14/2015,4.5,NO,1.4,,,55,,,LOW,,CLEAR,BROWN,2-Very minor aesthetic problems\n",
      "\n",
      "83293435,09/03/2015,5,NO,1.5,,,54,,,NORMAL,,CLEAR,BROWN,2-Very minor aesthetic problems\n",
      "\n",
      "103119417,09/09/2015,22,NO,6.7,,,33,,,NORMAL,,CLEAR,GREEN,1-beautiful\n",
      "\n",
      "83293435,09/25/2015,4.75,NO,1.4,,,55,,,NORMAL,,CLEAR,BROWN,2-Very minor aesthetic problems\n",
      "\n",
      "83293435,11/08/2015,5,NO,1.5,,,54,,,HIGH,,CLEAR,BROWN,2-Very minor aesthetic problems\n",
      "\n",
      "83293435,11/29/2015,, ,,,,,,,,,,,\n",
      "\n",
      "83293435,12/17/2015,, ,,,,,,,,,,,\n",
      "\n",
      "83293435,05/06/2016,4,NO,1.2,,,57,,,HIGH,,CLEAR,BROWN,2-Very minor aesthetic problems\n",
      "\n",
      "83293435,07/03/2016,5,NO,1.5,,,54,,,HIGH,,CLEAR,BROWN,2-Very minor aesthetic problems\n",
      "\n",
      "83293435,09/22/2016,2.5,NO,0.8,,,64,,,HIGH,,CLEAR,BROWN,2-Very minor aesthetic problems\n",
      "\n",
      "83293435,10/01/2016,3,NO,0.9,,,61,,,HIGH,,CLEAR,BROWN,2-Very minor aesthetic problems\n",
      "\n",
      "83293435,07/31/2017,5,NO,1.5,,,54,,,NORMAL,,CLEAR,BROWN,2-Very minor aesthetic problems\n",
      "\n",
      "83293435,09/29/2017,4.5,NO,1.4,,,55,,,NORMAL,,CLEAR,BROWN,2-Very minor aesthetic problems\n",
      "\n"
     ]
    }
   ],
   "source": [
    "cleanlines=[]\n",
    "for i in range(len(goodlines)):\n",
    "    cleanlines.append(goodlines[i].replace('1-Beautiful, could not be nicer', '1-beautiful'))\n",
    "print(\"\\n\".join(cleanlines))\n",
    "    "
   ]
  },
  {
   "cell_type": "code",
   "execution_count": 260,
   "metadata": {},
   "outputs": [],
   "source": [
    "clean_report_name = './data/wi-lakes/report_'+str(stationIDs[1])+'clean.csv'   \n",
    "\n",
    "f = open(clean_report_name,'w')      \n",
    "f.writelines(cleanlines)\n",
    "f.close()\n"
   ]
  },
  {
   "cell_type": "code",
   "execution_count": 261,
   "metadata": {},
   "outputs": [],
   "source": [
    "import pandas as pd\n",
    "df = pd.read_csv(clean_report_name,sep=\",\")"
   ]
  },
  {
   "cell_type": "code",
   "execution_count": 262,
   "metadata": {},
   "outputs": [
    {
     "data": {
      "text/html": [
       "<div>\n",
       "<style scoped>\n",
       "    .dataframe tbody tr th:only-of-type {\n",
       "        vertical-align: middle;\n",
       "    }\n",
       "\n",
       "    .dataframe tbody tr th {\n",
       "        vertical-align: top;\n",
       "    }\n",
       "\n",
       "    .dataframe thead th {\n",
       "        text-align: right;\n",
       "    }\n",
       "</style>\n",
       "<table border=\"1\" class=\"dataframe\">\n",
       "  <thead>\n",
       "    <tr style=\"text-align: right;\">\n",
       "      <th></th>\n",
       "      <th>Group Seq No</th>\n",
       "      <th>Start Date</th>\n",
       "      <th>Secchi (Feet)</th>\n",
       "      <th>Secchi Hit Bottom?</th>\n",
       "      <th>Secchi (Meters)</th>\n",
       "      <th>Chlorophyll(ug/l)</th>\n",
       "      <th>Total Phosphorus(ug/l)</th>\n",
       "      <th>Secchi TSI</th>\n",
       "      <th>Total Phosphorus TSI</th>\n",
       "      <th>Chlorophyll TSI</th>\n",
       "      <th>Lake Level</th>\n",
       "      <th>Staff Gauge</th>\n",
       "      <th>Appearance</th>\n",
       "      <th>Color</th>\n",
       "      <th>Perception</th>\n",
       "    </tr>\n",
       "  </thead>\n",
       "  <tbody>\n",
       "    <tr>\n",
       "      <th>0</th>\n",
       "      <td>1</td>\n",
       "      <td>08/16/1979</td>\n",
       "      <td>NaN</td>\n",
       "      <td>NaN</td>\n",
       "      <td>NaN</td>\n",
       "      <td>NaN</td>\n",
       "      <td>NaN</td>\n",
       "      <td>NaN</td>\n",
       "      <td>NaN</td>\n",
       "      <td>NaN</td>\n",
       "      <td>NaN</td>\n",
       "      <td>NaN</td>\n",
       "      <td>NaN</td>\n",
       "      <td>NaN</td>\n",
       "      <td>NaN</td>\n",
       "    </tr>\n",
       "    <tr>\n",
       "      <th>1</th>\n",
       "      <td>7000068</td>\n",
       "      <td>08/29/2001</td>\n",
       "      <td>NaN</td>\n",
       "      <td>NaN</td>\n",
       "      <td>NaN</td>\n",
       "      <td>5.80</td>\n",
       "      <td>NaN</td>\n",
       "      <td>NaN</td>\n",
       "      <td>NaN</td>\n",
       "      <td>48.0</td>\n",
       "      <td>NaN</td>\n",
       "      <td>NaN</td>\n",
       "      <td>NaN</td>\n",
       "      <td>NaN</td>\n",
       "      <td>NaN</td>\n",
       "    </tr>\n",
       "    <tr>\n",
       "      <th>2</th>\n",
       "      <td>8188599</td>\n",
       "      <td>08/29/2001</td>\n",
       "      <td>3.00</td>\n",
       "      <td>NO</td>\n",
       "      <td>0.90</td>\n",
       "      <td>NaN</td>\n",
       "      <td>NaN</td>\n",
       "      <td>61.0</td>\n",
       "      <td>NaN</td>\n",
       "      <td>NaN</td>\n",
       "      <td>NaN</td>\n",
       "      <td>NaN</td>\n",
       "      <td>NaN</td>\n",
       "      <td>NaN</td>\n",
       "      <td>NaN</td>\n",
       "    </tr>\n",
       "    <tr>\n",
       "      <th>3</th>\n",
       "      <td>1</td>\n",
       "      <td>08/14/2007</td>\n",
       "      <td>5.10</td>\n",
       "      <td>NO</td>\n",
       "      <td>1.55</td>\n",
       "      <td>3.54</td>\n",
       "      <td>29.0</td>\n",
       "      <td>54.0</td>\n",
       "      <td>54.0</td>\n",
       "      <td>44.0</td>\n",
       "      <td>NaN</td>\n",
       "      <td>NaN</td>\n",
       "      <td>NaN</td>\n",
       "      <td>NaN</td>\n",
       "      <td>NaN</td>\n",
       "    </tr>\n",
       "    <tr>\n",
       "      <th>4</th>\n",
       "      <td>83293435</td>\n",
       "      <td>08/17/2013</td>\n",
       "      <td>4.75</td>\n",
       "      <td>NO</td>\n",
       "      <td>1.40</td>\n",
       "      <td>NaN</td>\n",
       "      <td>NaN</td>\n",
       "      <td>55.0</td>\n",
       "      <td>NaN</td>\n",
       "      <td>NaN</td>\n",
       "      <td>NORMAL</td>\n",
       "      <td>3.0</td>\n",
       "      <td>CLEAR</td>\n",
       "      <td>BROWN</td>\n",
       "      <td>2-Very minor aesthetic problems</td>\n",
       "    </tr>\n",
       "  </tbody>\n",
       "</table>\n",
       "</div>"
      ],
      "text/plain": [
       "   Group Seq No  Start Date   Secchi (Feet) Secchi Hit Bottom?  \\\n",
       "0             1  08/16/1979             NaN                NaN   \n",
       "1       7000068  08/29/2001             NaN                NaN   \n",
       "2       8188599  08/29/2001            3.00                 NO   \n",
       "3             1  08/14/2007            5.10                 NO   \n",
       "4      83293435  08/17/2013            4.75                 NO   \n",
       "\n",
       "   Secchi (Meters)  Chlorophyll(ug/l)  Total Phosphorus(ug/l)  Secchi TSI  \\\n",
       "0              NaN                NaN                     NaN         NaN   \n",
       "1              NaN               5.80                     NaN         NaN   \n",
       "2             0.90                NaN                     NaN        61.0   \n",
       "3             1.55               3.54                    29.0        54.0   \n",
       "4             1.40                NaN                     NaN        55.0   \n",
       "\n",
       "   Total Phosphorus TSI  Chlorophyll TSI Lake Level  Staff Gauge Appearance  \\\n",
       "0                   NaN              NaN        NaN          NaN        NaN   \n",
       "1                   NaN             48.0        NaN          NaN        NaN   \n",
       "2                   NaN              NaN        NaN          NaN        NaN   \n",
       "3                  54.0             44.0        NaN          NaN        NaN   \n",
       "4                   NaN              NaN     NORMAL          3.0      CLEAR   \n",
       "\n",
       "   Color                       Perception  \n",
       "0    NaN                              NaN  \n",
       "1    NaN                              NaN  \n",
       "2    NaN                              NaN  \n",
       "3    NaN                              NaN  \n",
       "4  BROWN  2-Very minor aesthetic problems  "
      ]
     },
     "execution_count": 262,
     "metadata": {},
     "output_type": "execute_result"
    }
   ],
   "source": [
    "df.head()"
   ]
  },
  {
   "cell_type": "code",
   "execution_count": null,
   "metadata": {},
   "outputs": [],
   "source": []
  },
  {
   "cell_type": "markdown",
   "metadata": {},
   "source": [
    "### extras"
   ]
  },
  {
   "cell_type": "code",
   "execution_count": null,
   "metadata": {},
   "outputs": [],
   "source": [
    "from html_table_parser import parser_functions as parse\n",
    "\n",
    "station_url = 'https://dnr.wi.gov/lakes/clmn/Stations.aspx?location=0'\n",
    "station_html = requests.get(station_url)\n",
    "\n",
    "station_soup = bs(station_html.text, \"html.parser\")\n",
    "station_table = station_soup.find('table',  { \"class\" : \"greysuitsyou\" })\n",
    "station_twod_array = parse.make2d(station_table)\n",
    "\n",
    "# print 2D array\n",
    "print(len(station_twod_array))\n",
    "\n",
    "stations=[]\n",
    "for i in range(2,len(station_twod_array)-1):\n",
    "    stations.append(station_twod_array[i][1])\n",
    "\n",
    "print(stations)"
   ]
  },
  {
   "cell_type": "code",
   "execution_count": null,
   "metadata": {},
   "outputs": [],
   "source": [
    "# get station ID\n",
    "stationIDs = []\n",
    "def access_chla_reports():\n",
    "    for i in range(0,len(counties)):\n",
    "        station_url = 'https://dnr.wi.gov/lakes/clmn/Stations.aspx?location='+str(i+1)\n",
    "        #print(station_url)\n",
    "        station_html = requests.get(station_url)\n",
    "        station_soup = bs(station_html.text, \"html.parser\")\n",
    "        station_table = station_soup.find('table',  { \"class\" : \"greysuitsyou\" })\n",
    "        if station_table == None:\n",
    "            print('location '+str(i+1) + ' ' + counties[i] + ' has no lakes.')\n",
    "        else:\n",
    "            station_twod_array = parse.make2d(station_table)\n",
    "            for n in range(2,len(station_twod_array)-1):\n",
    "                stationIDs.append(station_twod_array[n][1])\n",
    "            #print('location '+str(i+1) + ' ' + counties[i] + ' has ' + str(len(station_twod_array)) + ' stations.')"
   ]
  }
 ],
 "metadata": {
  "kernelspec": {
   "display_name": "Python 3",
   "language": "python",
   "name": "python3"
  },
  "language_info": {
   "codemirror_mode": {
    "name": "ipython",
    "version": 3
   },
   "file_extension": ".py",
   "mimetype": "text/x-python",
   "name": "python",
   "nbconvert_exporter": "python",
   "pygments_lexer": "ipython3",
   "version": "3.6.4"
  }
 },
 "nbformat": 4,
 "nbformat_minor": 2
}
