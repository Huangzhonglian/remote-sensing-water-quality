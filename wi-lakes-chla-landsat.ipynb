{
 "cells": [
  {
   "cell_type": "code",
   "execution_count": 1,
   "metadata": {},
   "outputs": [],
   "source": [
    "from bs4 import BeautifulSoup\n",
    "import requests"
   ]
  },
  {
   "cell_type": "code",
   "execution_count": 2,
   "metadata": {},
   "outputs": [],
   "source": [
    "# set the url we want to visit\n",
    "url = \"https://dnr.wi.gov/lakes/CLMN/remotesensing/paths.aspx?county=Adams\"\n",
    "\n",
    "# visit that url, and grab the html of said page\n",
    "html = requests.get(url)"
   ]
  },
  {
   "cell_type": "code",
   "execution_count": 3,
   "metadata": {},
   "outputs": [
    {
     "data": {
      "text/plain": [
       "'\\r\\n\\r\\n<!DOCTYPE html PUBLIC \"-//W3C//DTD XHTML 1.0 Strict//EN\" \"http://www.w3.org/TR/xhtml1/DTD/xhtml1-strict.dtd\">\\r\\n\\r\\n<html xmlns=\"http://www.w3.org/1999/xhtml\">\\r\\n\\r\\n<head><meta http-equiv=\"content-type\" content=\"text/html;charset=utf-8\" /><link href=\"http://dnr.wi.gov/favicon.ico\" type=\"image/x-icon\" rel=\"icon\" /><link href=\"http://dnr.wi.gov/favicon.ico\" type=\"image/x-icon\" rel=\"shortcut icon\" /><title>\\r\\n\\tRemote Sensing - Satellite Paths\\r\\n</title><!-- BEGIN global_head.inc ( /includes/global_hea'"
      ]
     },
     "execution_count": 3,
     "metadata": {},
     "output_type": "execute_result"
    }
   ],
   "source": [
    "# .text returns the request content in Unicode\n",
    "html.text[:500]"
   ]
  },
  {
   "cell_type": "code",
   "execution_count": 4,
   "metadata": {},
   "outputs": [],
   "source": [
    "# convert this into a soup object\n",
    "soup = BeautifulSoup(html.text, 'html.parser')"
   ]
  },
  {
   "cell_type": "code",
   "execution_count": 6,
   "metadata": {},
   "outputs": [],
   "source": [
    "from html_table_parser import parser_functions as parse\n"
   ]
  },
  {
   "cell_type": "code",
   "execution_count": null,
   "metadata": {},
   "outputs": [],
   "source": [
    "table = soup.find('table',{'border':'1','bgcolor':'#aaaaaa'})"
   ]
  },
  {
   "cell_type": "code",
   "execution_count": 26,
   "metadata": {},
   "outputs": [
    {
     "name": "stdout",
     "output_type": "stream",
     "text": [
      "Group Seq No, Start Date, Secchi (Feet),Secchi Hit Bottom?,Secchi (Meters),Chlorophyll(ug/l),Total Phosphorus(ug/l),Secchi TSI,Total Phosphorus TSI,Chlorophyll TSI,Lake Level,Staff Gauge,Appearance,Color,Perception\n",
      "\n",
      "1,07/11/1994,3.3,,1,10.8,40,60,57,53,,,,,\n",
      "\n",
      "1,08/01/1994,6.2,,1.9,5.15,19,51,51,47,,,,,\n",
      "\n",
      "1,10/17/1994,5.2,,1.6,3.74,,53,,45,,,,,\n",
      "\n",
      "18137361,04/07/2004,5,NO,1.5,,,54,,,NORMAL,,CLEAR,GREEN,1-Beautiful, could not be nicer\n",
      "\n",
      "18137361,08/23/2004,5.5,NO,1.7,,,53,,,NORMAL,,CLEAR,BROWN,2-Very minor aesthetic problems\n",
      "\n",
      "18137361,09/13/2004,5.5,NO,1.7,,,53,,,,,MURKY,BROWN,3-Enjoyment somewhat impaired (algae)\n",
      "\n",
      "18137361,11/08/2004,6,YES,1.8,,,51,,,,,CLEAR,BROWN,2-Very minor aesthetic problems\n",
      "\n",
      "18137361,02/10/2005,,,,,,,,,,,CLEAR,BROWN,2-Very minor aesthetic problems\n",
      "\n",
      "18137361,04/15/2005,4.8,NO,1.5,,,55,,,,,MURKY,BROWN,2-Very minor aesthetic problems\n",
      "\n",
      "18137361,06/27/2005,5,NO,1.5,,,54,,,,,MURKY,BROWN,2-Very minor aesthetic problems\n",
      "\n",
      "18137361,07/18/2005,5.5,NO,1.7,,,53,,,,,MURKY,BROWN,3-Enjoyment somewhat impaired (algae)\n",
      "\n",
      "18137361,07/24/2005,5,NO,1.5,,,54,,,,,MURKY,GREEN,3-Enjoyment somewhat impaired (algae)\n",
      "\n",
      "18137361,08/08/2005,5,NO,1.5,,,54,,,,,MURKY,BROWN,3-Enjoyment somewhat impaired (algae)\n",
      "\n",
      "18137361,08/31/2005,4,NO,1.2,,,57,,,,,MURKY,BROWN,4-Would not swim but boating OK (algae)\n",
      "\n",
      "18137361,09/12/2005,4.5,NO,1.4,,,55,,,,,MURKY,BROWN,4-Would not swim but boating OK (algae)\n",
      "\n",
      "18137361,11/14/2005,6.5,NO,2,,,50,,,,,CLEAR,BROWN,2-Very minor aesthetic problems\n",
      "\n",
      "18137361,04/11/2006,6,NO,1.8,,,51,,,,,CLEAR,BROWN,1-Beautiful, could not be nicer\n",
      "\n",
      "18137361,07/07/2006,3.5,NO,1.1,,,59,,,,,MURKY,GREEN,4-Would not swim but boating OK (algae)\n",
      "\n",
      "18137361,09/05/2006,7,NO,2.1,,,49,,,,,CLEAR,BROWN,2-Very minor aesthetic problems\n",
      "\n",
      "18137361,09/08/2006,7,NO,2.1,,,49,,,,,CLEAR,BROWN,2-Very minor aesthetic problems\n",
      "\n",
      "18137361,09/18/2006,5,NO,1.5,,,54,,,,,MURKY,BROWN,2-Very minor aesthetic problems\n",
      "\n",
      "19017626,07/30/2007,6.2,YES,1.9,,,51,,,LOW,7.5,CLEAR,BROWN,3-Enjoyment somewhat impaired (algae)\n",
      "\n",
      "21947475,07/30/2007,6.25,YES,1.9,,,51,,,LOW,,CLEAR,BROWN,\n",
      "\n",
      "19017626,08/29/2007,7.5,YES,2.3,5.7,34,48,55,48,NORMAL,7.5,CLEAR,BROWN,3-Enjoyment somewhat impaired (algae)\n",
      "\n",
      "19017626,09/13/2007,5,YES,1.5,56,178,54,68,65,NORMAL,,CLEAR,GREEN,3-Enjoyment somewhat impaired (algae)\n",
      "\n",
      "19017626,10/18/2007,5.9,NO,1.8,,,52,,,HIGH,,CLEAR,GREEN,3-Enjoyment somewhat impaired (algae)\n",
      "\n",
      "21947475,06/02/2008,5.7,YES,1.7,,,52,,,NORMAL,,CLEAR,BROWN,2-Very minor aesthetic problems\n",
      "\n",
      "23163210,06/02/2008,5.75,YES,1.7,2.45,25,52,53,42,HIGH,,CLEAR,BROWN,2-Very minor aesthetic problems\n",
      "\n",
      "25650222,06/02/2008,,,,,,,,,,,,,\n",
      "\n",
      "23163210,06/30/2008,6,YES,1.8,1.6,33,51,55,38,HIGH,,CLEAR,BROWN,2-Very minor aesthetic problems\n",
      "\n",
      "25475462,08/07/2008,5.5,YES,1.7,15.3,57,53,59,55,NORMAL,4.8,CLEAR,BLUE,1-Beautiful, could not be nicer\n",
      "\n",
      "25475462,08/27/2008,5.3,NO,1.6,,,53,,,NORMAL,5.5,CLEAR,BROWN,2-Very minor aesthetic problems\n",
      "\n",
      "25650222,08/27/2008,5,NO,1.5,,,54,,,NORMAL,,CLEAR,GREEN,2-Very minor aesthetic problems\n",
      "\n",
      "25475462,09/24/2008,5.5,YES,1.7,8.47,26,53,53,51,NORMAL,5.09,MURKY,BROWN,3-Enjoyment somewhat impaired (algae)\n",
      "\n",
      "23163210,05/08/2009,5,NO,1.5,,32,54,55,,,,,,\n",
      "\n",
      "23163210,06/04/2009,6.5,YES,2,3.99,38,50,56,45,,,,,\n",
      "\n",
      "25650222,08/06/2009,,,,1.29,20,,51,37,,,,,\n",
      "\n",
      "23163210,09/02/2009,6.4,YES,1.9,1.56,12,50,47,38,NORMAL,5.3,CLEAR,GREEN,3-Enjoyment somewhat impaired (algae)\n",
      "\n",
      "23163210,05/10/2010,6.3,YES,1.9,,22,51,52,,NORMAL,5.5,MURKY,BROWN,2-Very minor aesthetic problems\n",
      "\n",
      "25475462,06/22/2010,6,YES,1.8,3.44,36,51,56,44,HIGH,5.25,MURKY,BROWN,3-Enjoyment somewhat impaired (algae)\n",
      "\n",
      "23163210,07/30/2010,3.5,NO,1.1,,,59,,,LOW,,MURKY,BROWN,3-Enjoyment somewhat impaired (algae)\n",
      "\n",
      "25650222,07/30/2010,,,,3.66,56,,59,45,,,,,\n",
      "\n",
      "25650222,08/31/2010,3.25,NO,1,3.86,32,60,55,45,,5,MURKY,BROWN,4-Would not swim but boating OK (algae)\n",
      "\n",
      "23163210,06/08/2011,5,NO,1.5,,,54,,,NORMAL,5.6,MURKY,BROWN,2-Very minor aesthetic problems\n",
      "\n",
      "25650222,06/08/2011,,,,5.86,49,,58,48,,,,,\n",
      "\n",
      "25650222,07/20/2011,3,NO,0.9,4.73,69,61,61,47,NORMAL,4,MURKY,BROWN,4-Would not swim but boating OK (algae)\n",
      "\n",
      "25650222,08/29/2011,3,NO,0.9,3.25,30,61,54,44,LOW,5.2,MURKY,BROWN,4-Would not swim but boating OK (algae)\n",
      "\n",
      "1,06/12/2012,,,,3.04,29,,54,43,,,,,\n",
      "\n",
      "25475462,06/12/2012,4,NO,1.2,,,57,,,NORMAL,5.0,MURKY,BROWN,3-Enjoyment somewhat impaired (algae)\n",
      "\n",
      "25650222,07/10/2012,4,NO,1.2,4.46,26,57,53,46,NORMAL,5.2,MURKY,BROWN,4-Would not swim but boating OK (algae)\n",
      "\n",
      "25650222,08/06/2012,3.3,YES,1,7.91,41,60,57,50,NORMAL,4,MURKY,BROWN,4-Would not swim but boating OK (algae)\n",
      "\n",
      "25650222,06/30/2013,2.8,NO,0.9,8.81,39.9,62,57,51,HIGH,5.3,MURKY,BROWN,4-Would not swim but boating OK (algae)\n",
      "\n",
      "25650222,07/30/2013,4.2,NO,1.3,9.61,22.5,56,52,52,HIGH,5.3,MURKY,BROWN,3-Enjoyment somewhat impaired (algae)\n",
      "\n",
      "25650222,08/26/2013,6,YES,1.8,2.85,13.2,51,48,43,NORMAL,5.18,CLEAR,GREEN,2-Very minor aesthetic problems\n",
      "\n",
      "25650222,06/26/2014,2.5,NO,0.8,4.22,37.2,64,56,46,NORMAL,5.1,MURKY,BROWN,4-Would not swim but boating OK (algae)\n",
      "\n",
      "25650222,07/15/2014,4.5,NO,1.4,3.44,25.8,55,53,44,NORMAL,4.9,,BROWN,3-Enjoyment somewhat impaired (algae)\n",
      "\n",
      "25650222,08/18/2014,5,NO,1.5,1.65,17.5,54,50,39,LOW,4.9,MURKY,BROWN,4-Would not swim but boating OK (algae)\n",
      "\n",
      "18137361,04/13/2015,,,,,32.5,,55,,,,,,\n",
      "\n",
      "18137361,04/15/2015,4.5,NO,1.4,,,55,,,LOW,,CLEAR,YELLOW,2-Very minor aesthetic problems\n",
      "\n",
      "25650222,06/10/2015,2.3,NO,0.7,2.03,32.7,65,55,40,HIGH,5.4,MURKY,BROWN,4-Would not swim but boating OK (algae)\n",
      "\n",
      "25650222,07/27/2015,4,NO,1.2,7.51,25.4,57,53,50,NORMAL,4.96,MURKY,BROWN,4-Would not swim but boating OK (algae)\n",
      "\n",
      "25650222,08/26/2015,4,NO,1.2,5.97,27.4,57,54,48,NORMAL,5.18,MURKY,BROWN,\n",
      "\n",
      "18137361,05/12/2016,6,NO,1.8,,26.6,51,54,,NORMAL,,CLEAR,YELLOW,1-Beautiful, could not be nicer\n",
      "\n",
      "25650222,07/25/2016,4.9,YES,1.5,2.08,31.8,54,55,40,NORMAL,,MURKY,BROWN,4-Would not swim but boating OK (algae)\n",
      "\n",
      "25650222,09/05/2016,4.8,NO,1.5,1.13,37.2,55,56,36,NORMAL,,MURKY,BROWN,4-Would not swim but boating OK (algae)\n",
      "\n",
      "25650222,06/26/2017,3,NO,0.9,4.47,43.6,61,57,46,HIGH,,MURKY,BROWN,5-Enjoyment substantially impaired (algae)\n",
      "\n",
      "25650222,07/30/2017,,,,2.07,30.5,,55,40,,,,,\n",
      "\n",
      "25650222,07/31/2017,4.4,YES,1.3,,,56,,,LOW,,MURKY,BROWN,4-Would not swim but boating OK (algae)\n",
      "\n",
      "25650222,08/28/2017,4,NO,1.2,1.82,40.8,57,57,39,HIGH,,MURKY,BROWN,4-Would not swim but boating OK (algae)\n",
      "\n"
     ]
    }
   ],
   "source": [
    "import pandas as pd\n",
    "f = open('./data/report.csv','r')\n",
    "lines = f.readlines()\n",
    "f.close()\n",
    "goodlines = []\n",
    "start = 0\n",
    "for i in range(len(lines)):\n",
    "    if \"Chlorophyll\" in lines[i]:\n",
    "        start = i\n",
    "    if start > 0:\n",
    "        if lines[i].strip().replace(\",\",\"\") == \"\":\n",
    "            goodlines = lines[start:i]\n",
    "            break\n",
    "\n",
    "f = open (\"./data/out.csv\",\"w\")\n",
    "f.writelines(goodlines)\n",
    "f.close()\n",
    "            \n",
    "print( \"\\n\".join(goodlines) )"
   ]
  },
  {
   "cell_type": "code",
   "execution_count": 27,
   "metadata": {},
   "outputs": [
    {
     "ename": "ParserError",
     "evalue": "Error tokenizing data. C error: Expected 15 fields in line 5, saw 16\n",
     "output_type": "error",
     "traceback": [
      "\u001b[1;31m---------------------------------------------------------------------------\u001b[0m",
      "\u001b[1;31mParserError\u001b[0m                               Traceback (most recent call last)",
      "\u001b[1;32m<ipython-input-27-a9511128212b>\u001b[0m in \u001b[0;36m<module>\u001b[1;34m()\u001b[0m\n\u001b[1;32m----> 1\u001b[1;33m \u001b[0mdf\u001b[0m \u001b[1;33m=\u001b[0m \u001b[0mpd\u001b[0m\u001b[1;33m.\u001b[0m\u001b[0mread_csv\u001b[0m\u001b[1;33m(\u001b[0m\u001b[1;34m\"./data/out.csv\"\u001b[0m\u001b[1;33m,\u001b[0m\u001b[0msep\u001b[0m\u001b[1;33m=\u001b[0m\u001b[1;34m\",\"\u001b[0m\u001b[1;33m)\u001b[0m\u001b[1;33m\u001b[0m\u001b[0m\n\u001b[0m",
      "\u001b[1;32m~\\AppData\\Local\\Continuum\\anaconda3\\lib\\site-packages\\pandas\\io\\parsers.py\u001b[0m in \u001b[0;36mparser_f\u001b[1;34m(filepath_or_buffer, sep, delimiter, header, names, index_col, usecols, squeeze, prefix, mangle_dupe_cols, dtype, engine, converters, true_values, false_values, skipinitialspace, skiprows, nrows, na_values, keep_default_na, na_filter, verbose, skip_blank_lines, parse_dates, infer_datetime_format, keep_date_col, date_parser, dayfirst, iterator, chunksize, compression, thousands, decimal, lineterminator, quotechar, quoting, escapechar, comment, encoding, dialect, tupleize_cols, error_bad_lines, warn_bad_lines, skipfooter, skip_footer, doublequote, delim_whitespace, as_recarray, compact_ints, use_unsigned, low_memory, buffer_lines, memory_map, float_precision)\u001b[0m\n\u001b[0;32m    707\u001b[0m                     skip_blank_lines=skip_blank_lines)\n\u001b[0;32m    708\u001b[0m \u001b[1;33m\u001b[0m\u001b[0m\n\u001b[1;32m--> 709\u001b[1;33m         \u001b[1;32mreturn\u001b[0m \u001b[0m_read\u001b[0m\u001b[1;33m(\u001b[0m\u001b[0mfilepath_or_buffer\u001b[0m\u001b[1;33m,\u001b[0m \u001b[0mkwds\u001b[0m\u001b[1;33m)\u001b[0m\u001b[1;33m\u001b[0m\u001b[0m\n\u001b[0m\u001b[0;32m    710\u001b[0m \u001b[1;33m\u001b[0m\u001b[0m\n\u001b[0;32m    711\u001b[0m     \u001b[0mparser_f\u001b[0m\u001b[1;33m.\u001b[0m\u001b[0m__name__\u001b[0m \u001b[1;33m=\u001b[0m \u001b[0mname\u001b[0m\u001b[1;33m\u001b[0m\u001b[0m\n",
      "\u001b[1;32m~\\AppData\\Local\\Continuum\\anaconda3\\lib\\site-packages\\pandas\\io\\parsers.py\u001b[0m in \u001b[0;36m_read\u001b[1;34m(filepath_or_buffer, kwds)\u001b[0m\n\u001b[0;32m    453\u001b[0m \u001b[1;33m\u001b[0m\u001b[0m\n\u001b[0;32m    454\u001b[0m     \u001b[1;32mtry\u001b[0m\u001b[1;33m:\u001b[0m\u001b[1;33m\u001b[0m\u001b[0m\n\u001b[1;32m--> 455\u001b[1;33m         \u001b[0mdata\u001b[0m \u001b[1;33m=\u001b[0m \u001b[0mparser\u001b[0m\u001b[1;33m.\u001b[0m\u001b[0mread\u001b[0m\u001b[1;33m(\u001b[0m\u001b[0mnrows\u001b[0m\u001b[1;33m)\u001b[0m\u001b[1;33m\u001b[0m\u001b[0m\n\u001b[0m\u001b[0;32m    456\u001b[0m     \u001b[1;32mfinally\u001b[0m\u001b[1;33m:\u001b[0m\u001b[1;33m\u001b[0m\u001b[0m\n\u001b[0;32m    457\u001b[0m         \u001b[0mparser\u001b[0m\u001b[1;33m.\u001b[0m\u001b[0mclose\u001b[0m\u001b[1;33m(\u001b[0m\u001b[1;33m)\u001b[0m\u001b[1;33m\u001b[0m\u001b[0m\n",
      "\u001b[1;32m~\\AppData\\Local\\Continuum\\anaconda3\\lib\\site-packages\\pandas\\io\\parsers.py\u001b[0m in \u001b[0;36mread\u001b[1;34m(self, nrows)\u001b[0m\n\u001b[0;32m   1067\u001b[0m                 \u001b[1;32mraise\u001b[0m \u001b[0mValueError\u001b[0m\u001b[1;33m(\u001b[0m\u001b[1;34m'skipfooter not supported for iteration'\u001b[0m\u001b[1;33m)\u001b[0m\u001b[1;33m\u001b[0m\u001b[0m\n\u001b[0;32m   1068\u001b[0m \u001b[1;33m\u001b[0m\u001b[0m\n\u001b[1;32m-> 1069\u001b[1;33m         \u001b[0mret\u001b[0m \u001b[1;33m=\u001b[0m \u001b[0mself\u001b[0m\u001b[1;33m.\u001b[0m\u001b[0m_engine\u001b[0m\u001b[1;33m.\u001b[0m\u001b[0mread\u001b[0m\u001b[1;33m(\u001b[0m\u001b[0mnrows\u001b[0m\u001b[1;33m)\u001b[0m\u001b[1;33m\u001b[0m\u001b[0m\n\u001b[0m\u001b[0;32m   1070\u001b[0m \u001b[1;33m\u001b[0m\u001b[0m\n\u001b[0;32m   1071\u001b[0m         \u001b[1;32mif\u001b[0m \u001b[0mself\u001b[0m\u001b[1;33m.\u001b[0m\u001b[0moptions\u001b[0m\u001b[1;33m.\u001b[0m\u001b[0mget\u001b[0m\u001b[1;33m(\u001b[0m\u001b[1;34m'as_recarray'\u001b[0m\u001b[1;33m)\u001b[0m\u001b[1;33m:\u001b[0m\u001b[1;33m\u001b[0m\u001b[0m\n",
      "\u001b[1;32m~\\AppData\\Local\\Continuum\\anaconda3\\lib\\site-packages\\pandas\\io\\parsers.py\u001b[0m in \u001b[0;36mread\u001b[1;34m(self, nrows)\u001b[0m\n\u001b[0;32m   1837\u001b[0m     \u001b[1;32mdef\u001b[0m \u001b[0mread\u001b[0m\u001b[1;33m(\u001b[0m\u001b[0mself\u001b[0m\u001b[1;33m,\u001b[0m \u001b[0mnrows\u001b[0m\u001b[1;33m=\u001b[0m\u001b[1;32mNone\u001b[0m\u001b[1;33m)\u001b[0m\u001b[1;33m:\u001b[0m\u001b[1;33m\u001b[0m\u001b[0m\n\u001b[0;32m   1838\u001b[0m         \u001b[1;32mtry\u001b[0m\u001b[1;33m:\u001b[0m\u001b[1;33m\u001b[0m\u001b[0m\n\u001b[1;32m-> 1839\u001b[1;33m             \u001b[0mdata\u001b[0m \u001b[1;33m=\u001b[0m \u001b[0mself\u001b[0m\u001b[1;33m.\u001b[0m\u001b[0m_reader\u001b[0m\u001b[1;33m.\u001b[0m\u001b[0mread\u001b[0m\u001b[1;33m(\u001b[0m\u001b[0mnrows\u001b[0m\u001b[1;33m)\u001b[0m\u001b[1;33m\u001b[0m\u001b[0m\n\u001b[0m\u001b[0;32m   1840\u001b[0m         \u001b[1;32mexcept\u001b[0m \u001b[0mStopIteration\u001b[0m\u001b[1;33m:\u001b[0m\u001b[1;33m\u001b[0m\u001b[0m\n\u001b[0;32m   1841\u001b[0m             \u001b[1;32mif\u001b[0m \u001b[0mself\u001b[0m\u001b[1;33m.\u001b[0m\u001b[0m_first_chunk\u001b[0m\u001b[1;33m:\u001b[0m\u001b[1;33m\u001b[0m\u001b[0m\n",
      "\u001b[1;32mpandas/_libs/parsers.pyx\u001b[0m in \u001b[0;36mpandas._libs.parsers.TextReader.read\u001b[1;34m()\u001b[0m\n",
      "\u001b[1;32mpandas/_libs/parsers.pyx\u001b[0m in \u001b[0;36mpandas._libs.parsers.TextReader._read_low_memory\u001b[1;34m()\u001b[0m\n",
      "\u001b[1;32mpandas/_libs/parsers.pyx\u001b[0m in \u001b[0;36mpandas._libs.parsers.TextReader._read_rows\u001b[1;34m()\u001b[0m\n",
      "\u001b[1;32mpandas/_libs/parsers.pyx\u001b[0m in \u001b[0;36mpandas._libs.parsers.TextReader._tokenize_rows\u001b[1;34m()\u001b[0m\n",
      "\u001b[1;32mpandas/_libs/parsers.pyx\u001b[0m in \u001b[0;36mpandas._libs.parsers.raise_parser_error\u001b[1;34m()\u001b[0m\n",
      "\u001b[1;31mParserError\u001b[0m: Error tokenizing data. C error: Expected 15 fields in line 5, saw 16\n"
     ]
    }
   ],
   "source": [
    "df = pd.read_csv(\"./data/out.csv\",sep=\",\")"
   ]
  },
  {
   "cell_type": "code",
   "execution_count": null,
   "metadata": {},
   "outputs": [],
   "source": []
  }
 ],
 "metadata": {
  "kernelspec": {
   "display_name": "Python 3",
   "language": "python",
   "name": "python3"
  },
  "language_info": {
   "codemirror_mode": {
    "name": "ipython",
    "version": 3
   },
   "file_extension": ".py",
   "mimetype": "text/x-python",
   "name": "python",
   "nbconvert_exporter": "python",
   "pygments_lexer": "ipython3",
   "version": "3.6.4"
  }
 },
 "nbformat": 4,
 "nbformat_minor": 2
}
