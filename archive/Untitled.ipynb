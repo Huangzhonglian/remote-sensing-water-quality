{
 "cells": [
  {
   "cell_type": "code",
   "execution_count": 1,
   "metadata": {},
   "outputs": [],
   "source": [
    "from bs4 import BeautifulSoup as bs\n",
    "import requests\n",
    "from selenium import webdriver\n",
    "from html_table_parser import parser_functions as parse\n",
    "from time import sleep\n",
    "import pandas as pd\n",
    "import urllib.request\n",
    "import os\n",
    "import pprint\n",
    "\n",
    "# Configure the pretty printing output.\n",
    "pp = pprint.PrettyPrinter(depth=4)"
   ]
  },
  {
   "cell_type": "code",
   "execution_count": 27,
   "metadata": {},
   "outputs": [],
   "source": [
    "coordinates = []\n",
    "area_acre = []\n",
    "depth_max_ft = []\n",
    "depth_mean_ft = []\n",
    "trophic_status = []\n",
    "water_body_type = []\n",
    "hydrologic_type = []\n",
    "wbic_valid = []\n",
    "\n",
    "def lake_info_extract():\n",
    "    '''\n",
    "    extract information about lakes\n",
    "    '''\n",
    "    \n",
    "    for i in range(0,1): \n",
    "        \n",
    "        wbic_url = 'https://dnr.wi.gov/lakes/lakepages/LakeDetail.aspx?wbic=2392000&page=facts'\n",
    "        wbic_html = requests.get(wbic_url)\n",
    "        wbic_soup = bs(wbic_html.text, \"html.parser\")\n",
    "        wbic_table = wbic_soup.find('table',  { \"class\" : \"tableLeft\" })\n",
    "        wbic_twod_array = parse.make2d(wbic_table)\n",
    "\n",
    "\n",
    "        if 'Latitude, Longitude' in wbic_twod_array[9]:\n",
    "            print (\" has coordinates in line 9\")\n",
    "            #pp.pprint(wbic_twod_array)\n",
    "            # turn coordinates into list of floats\n",
    "            coord = []\n",
    "            coord_string = wbic_twod_array[9][1].replace('\\r\\n                    ','').split(',')\n",
    "            coord.append(float(coord_string[0]))\n",
    "            coord.append(float(coord_string[1]))\n",
    "            coordinates.append(coord)\n",
    "            wbic_valid.append(wbic_twod_array[2][1])\n",
    "\n",
    "        if 'Latitude, Longitude' in wbic_twod_array[10]: \n",
    "            print (\" has coordinates in line 10\")\n",
    "            # turn coordinates into list of floats\n",
    "            coord = []\n",
    "            coord_string = wbic_twod_array[10][1].replace('\\r\\n                    ','').split(',')\n",
    "            coord.append(float(coord_string[0]))\n",
    "            coord.append(float(coord_string[1]))\n",
    "            coordinates.append(coord)\n",
    "            wbic_valid.append(wbic_twod_array[2][1])\n",
    "\n",
    "        if 'Latitude, Longitude' in wbic_twod_array[11]:\n",
    "            print (\" has coordinates in line 11\")\n",
    "            # turn coordinates into list of floats\n",
    "            coord = []\n",
    "            coord_string = wbic_twod_array[11][1].replace('\\r\\n                    ','').split(',')\n",
    "            coord.append(float(coord_string[0]))\n",
    "            coord.append(float(coord_string[1]))\n",
    "            coordinates.append(coord)\n",
    "            wbic_valid.append(wbic_twod_array[2][1])\n",
    "\n",
    "            "
   ]
  },
  {
   "cell_type": "code",
   "execution_count": 28,
   "metadata": {},
   "outputs": [
    {
     "name": "stdout",
     "output_type": "stream",
     "text": [
      " has coordinates in line 11\n"
     ]
    }
   ],
   "source": [
    "lake_info_extract()"
   ]
  },
  {
   "cell_type": "code",
   "execution_count": 29,
   "metadata": {},
   "outputs": [
    {
     "data": {
      "text/plain": [
       "[[45.8628698, -91.4452839]]"
      ]
     },
     "execution_count": 29,
     "metadata": {},
     "output_type": "execute_result"
    }
   ],
   "source": [
    "coordinates"
   ]
  },
  {
   "cell_type": "code",
   "execution_count": null,
   "metadata": {},
   "outputs": [],
   "source": []
  }
 ],
 "metadata": {
  "kernelspec": {
   "display_name": "Python 3",
   "language": "python",
   "name": "python3"
  },
  "language_info": {
   "codemirror_mode": {
    "name": "ipython",
    "version": 3
   },
   "file_extension": ".py",
   "mimetype": "text/x-python",
   "name": "python",
   "nbconvert_exporter": "python",
   "pygments_lexer": "ipython3",
   "version": "3.6.4"
  }
 },
 "nbformat": 4,
 "nbformat_minor": 2
}
